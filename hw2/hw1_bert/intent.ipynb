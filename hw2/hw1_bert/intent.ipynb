{
 "cells": [
  {
   "cell_type": "code",
   "execution_count": 1,
   "metadata": {},
   "outputs": [
    {
     "name": "stderr",
     "output_type": "stream",
     "text": [
      "2022-11-08 21:23:04.959750: I tensorflow/core/platform/cpu_feature_guard.cc:193] This TensorFlow binary is optimized with oneAPI Deep Neural Network Library (oneDNN) to use the following CPU instructions in performance-critical operations:  AVX2 FMA\n",
      "To enable them in other operations, rebuild TensorFlow with the appropriate compiler flags.\n",
      "2022-11-08 21:23:07.243339: E tensorflow/stream_executor/cuda/cuda_blas.cc:2981] Unable to register cuBLAS factory: Attempting to register factory for plugin cuBLAS when one has already been registered\n",
      "2022-11-08 21:23:12.901527: W tensorflow/stream_executor/platform/default/dso_loader.cc:64] Could not load dynamic library 'libnvinfer.so.7'; dlerror: libnvinfer.so.7: cannot open shared object file: No such file or directory\n",
      "2022-11-08 21:23:12.902351: W tensorflow/stream_executor/platform/default/dso_loader.cc:64] Could not load dynamic library 'libnvinfer_plugin.so.7'; dlerror: libnvinfer_plugin.so.7: cannot open shared object file: No such file or directory\n",
      "2022-11-08 21:23:12.902369: W tensorflow/compiler/tf2tensorrt/utils/py_utils.cc:38] TF-TRT Warning: Cannot dlopen some TensorRT libraries. If you would like to use Nvidia GPU with TensorRT, please make sure the missing libraries mentioned above are installed properly.\n"
     ]
    }
   ],
   "source": [
    "import os\n",
    "import json\n",
    "import math\n",
    "from functools import partial\n",
    "\n",
    "from accelerate import Accelerator\n",
    "from datasets import load_dataset, load_metric\n",
    "import torch\n",
    "from torch.utils.data.dataloader import DataLoader\n",
    "from transformers import (\n",
    "    CONFIG_MAPPING,\n",
    "    MODEL_MAPPING,\n",
    "    AdamW,\n",
    "    AutoConfig,\n",
    "    AutoModelForSequenceClassification,\n",
    "    TrainingArguments,\n",
    "    Trainer,\n",
    "    AutoTokenizer,\n",
    "    DataCollatorWithPadding,\n",
    "    get_scheduler,\n",
    "    set_seed,\n",
    ")"
   ]
  },
  {
   "cell_type": "markdown",
   "metadata": {},
   "source": [
    "# Organize dataset\n",
    "- organize to format that could be used by `load_dataset`"
   ]
  },
  {
   "cell_type": "code",
   "execution_count": 5,
   "metadata": {},
   "outputs": [],
   "source": [
    "intent_data_path = './intent/data'\n",
    "datas = ['train', 'eval', 'test']\n",
    "for data in datas:   \n",
    "    in_file = os.path.join(intent_data_path, data + \".json\")\n",
    "    out_file = os.path.join(intent_data_path, data + \"_organized.json\")\n",
    "    with open(out_file, 'w') as wf:\n",
    "        with open(in_file, 'r') as rf:\n",
    "            data = json.load(rf)\n",
    "        for d in data:\n",
    "            print(json.dumps(d), file=wf)"
   ]
  },
  {
   "cell_type": "code",
   "execution_count": 2,
   "metadata": {},
   "outputs": [
    {
     "name": "stderr",
     "output_type": "stream",
     "text": [
      "Using custom data configuration default-b80b426ef07fa8bc\n",
      "Found cached dataset json (/home/guest/r11922a05/.cache/huggingface/datasets/json/default-b80b426ef07fa8bc/0.0.0/e6070c77f18f01a5ad4551a8b7edfba20b8438b7cad4d94e6ad9378022ce4aab)\n"
     ]
    },
    {
     "data": {
      "application/vnd.jupyter.widget-view+json": {
       "model_id": "f39aa4e120bb4cb483a202f90154d596",
       "version_major": 2,
       "version_minor": 0
      },
      "text/plain": [
       "  0%|          | 0/2 [00:00<?, ?it/s]"
      ]
     },
     "metadata": {},
     "output_type": "display_data"
    },
    {
     "name": "stderr",
     "output_type": "stream",
     "text": [
      "/tmp/ipykernel_16602/1087891887.py:5: FutureWarning: load_metric is deprecated and will be removed in the next major version of datasets. Use 'evaluate.load' instead, from the new library 🤗 Evaluate: https://huggingface.co/docs/evaluate\n",
      "  metrics = load_metric(\"accuracy\")\n"
     ]
    }
   ],
   "source": [
    "datasets = load_dataset(\n",
    "    \"json\", \n",
    "    data_files={\"train\": 'data/intent/train_organized.json', \"valid\": 'data/intent/eval_organized.json'}\n",
    "    )\n",
    "metrics = load_metric(\"accuracy\")"
   ]
  },
  {
   "cell_type": "code",
   "execution_count": 3,
   "metadata": {},
   "outputs": [],
   "source": [
    "cols = datasets[\"train\"].column_names\n",
    "text_col, intent_col = \"text\", \"intent\""
   ]
  },
  {
   "cell_type": "code",
   "execution_count": 4,
   "metadata": {},
   "outputs": [],
   "source": [
    "train_examples = datasets[\"train\"]\n",
    "valid_examples = datasets[\"valid\"]\n",
    "intent2id = {intent: i for i, intent in enumerate(sorted(list(set(train_examples[intent_col]))))}\n",
    "id2intent = {v: k for k, v in intent2id.items()}"
   ]
  },
  {
   "cell_type": "markdown",
   "metadata": {},
   "source": [
    "# Data preprocessing"
   ]
  },
  {
   "cell_type": "code",
   "execution_count": 4,
   "metadata": {},
   "outputs": [
    {
     "name": "stderr",
     "output_type": "stream",
     "text": [
      "Some weights of the model checkpoint at distilbert-base-uncased were not used when initializing DistilBertForSequenceClassification: ['vocab_projector.weight', 'vocab_projector.bias', 'vocab_transform.weight', 'vocab_layer_norm.bias', 'vocab_layer_norm.weight', 'vocab_transform.bias']\n",
      "- This IS expected if you are initializing DistilBertForSequenceClassification from the checkpoint of a model trained on another task or with another architecture (e.g. initializing a BertForSequenceClassification model from a BertForPreTraining model).\n",
      "- This IS NOT expected if you are initializing DistilBertForSequenceClassification from the checkpoint of a model that you expect to be exactly identical (initializing a BertForSequenceClassification model from a BertForSequenceClassification model).\n",
      "Some weights of DistilBertForSequenceClassification were not initialized from the model checkpoint at distilbert-base-uncased and are newly initialized: ['classifier.bias', 'pre_classifier.bias', 'classifier.weight', 'pre_classifier.weight']\n",
      "You should probably TRAIN this model on a down-stream task to be able to use it for predictions and inference.\n"
     ]
    }
   ],
   "source": [
    "model_name = \"distilbert-base-uncased\"\n",
    "batch_size = 16\n",
    "tokenizer = AutoTokenizer.from_pretrained(model_name, use_fast=True)\n",
    "config = AutoConfig.from_pretrained(model_name, id2label=id2intent)\n",
    "model = AutoModelForSequenceClassification.from_pretrained(model_name, config=config)"
   ]
  },
  {
   "cell_type": "code",
   "execution_count": 6,
   "metadata": {},
   "outputs": [],
   "source": [
    "def prepare_features(examples, tokenizer, intent2id):\n",
    "    tokenized_examples = tokenizer(examples[text_col])\n",
    "    if examples.get(intent_col):\n",
    "        tokenized_examples[\"labels\"] = [intent2id[intent] for intent in examples[intent_col]]\n",
    "    return tokenized_examples"
   ]
  },
  {
   "cell_type": "code",
   "execution_count": 7,
   "metadata": {},
   "outputs": [
    {
     "name": "stdout",
     "output_type": "stream",
     "text": [
      "     "
     ]
    },
    {
     "data": {
      "application/vnd.jupyter.widget-view+json": {
       "model_id": "a37858e9aa8841899d57436fb3809792",
       "version_major": 2,
       "version_minor": 0
      },
      "text/plain": [
       "#0:   0%|          | 0/4 [00:00<?, ?ba/s]"
      ]
     },
     "metadata": {},
     "output_type": "display_data"
    },
    {
     "name": "stdout",
     "output_type": "stream",
     "text": [
      "  "
     ]
    },
    {
     "data": {
      "application/vnd.jupyter.widget-view+json": {
       "model_id": "ca4093c045be4d28b1fd2b0b9b8ab975",
       "version_major": 2,
       "version_minor": 0
      },
      "text/plain": [
       "#1:   0%|          | 0/4 [00:00<?, ?ba/s]"
      ]
     },
     "metadata": {},
     "output_type": "display_data"
    },
    {
     "name": "stdout",
     "output_type": "stream",
     "text": [
      " "
     ]
    },
    {
     "data": {
      "application/vnd.jupyter.widget-view+json": {
       "model_id": "9638beb92f4e492e910bc37cd3c9d11b",
       "version_major": 2,
       "version_minor": 0
      },
      "text/plain": [
       "#2:   0%|          | 0/4 [00:00<?, ?ba/s]"
      ]
     },
     "metadata": {},
     "output_type": "display_data"
    },
    {
     "data": {
      "application/vnd.jupyter.widget-view+json": {
       "model_id": "f5db193ebc234ed9b5976d2b1a31c200",
       "version_major": 2,
       "version_minor": 0
      },
      "text/plain": [
       "#3:   0%|          | 0/4 [00:00<?, ?ba/s]"
      ]
     },
     "metadata": {},
     "output_type": "display_data"
    },
    {
     "name": "stdout",
     "output_type": "stream",
     "text": [
      "     "
     ]
    },
    {
     "data": {
      "application/vnd.jupyter.widget-view+json": {
       "model_id": "44d140bfffe4427d8902f17db1c6ef8d",
       "version_major": 2,
       "version_minor": 0
      },
      "text/plain": [
       "#0:   0%|          | 0/1 [00:00<?, ?ba/s]"
      ]
     },
     "metadata": {},
     "output_type": "display_data"
    },
    {
     "name": "stdout",
     "output_type": "stream",
     "text": [
      "  "
     ]
    },
    {
     "data": {
      "application/vnd.jupyter.widget-view+json": {
       "model_id": "6c9cc6464d824c269a993de1340b82d7",
       "version_major": 2,
       "version_minor": 0
      },
      "text/plain": [
       "#1:   0%|          | 0/1 [00:00<?, ?ba/s]"
      ]
     },
     "metadata": {},
     "output_type": "display_data"
    },
    {
     "name": "stdout",
     "output_type": "stream",
     "text": [
      " "
     ]
    },
    {
     "data": {
      "application/vnd.jupyter.widget-view+json": {
       "model_id": "6f11ddf3213945b4aed75edb1f702184",
       "version_major": 2,
       "version_minor": 0
      },
      "text/plain": [
       "#2:   0%|          | 0/1 [00:00<?, ?ba/s]"
      ]
     },
     "metadata": {},
     "output_type": "display_data"
    },
    {
     "data": {
      "application/vnd.jupyter.widget-view+json": {
       "model_id": "1295156e6d0f4f688ac964fa9cbbeaca",
       "version_major": 2,
       "version_minor": 0
      },
      "text/plain": [
       "#3:   0%|          | 0/1 [00:00<?, ?ba/s]"
      ]
     },
     "metadata": {},
     "output_type": "display_data"
    }
   ],
   "source": [
    "prepare_features = partial(prepare_features, tokenizer=tokenizer, intent2id=intent2id)\n",
    "train_dataset = train_examples.map(\n",
    "    prepare_features,\n",
    "    batched=True,\n",
    "    num_proc=4,\n",
    "    remove_columns=cols,\n",
    ")\n",
    "valid_dataset = valid_examples.map(\n",
    "    prepare_features,\n",
    "    batched=True,\n",
    "    num_proc=4,\n",
    "    remove_columns=cols,\n",
    ")"
   ]
  },
  {
   "cell_type": "markdown",
   "metadata": {},
   "source": [
    "# Modeling\n",
    "- see `example/text_classification.ipynb`"
   ]
  },
  {
   "cell_type": "code",
   "execution_count": 13,
   "metadata": {},
   "outputs": [],
   "source": [
    "data_collator = DataCollatorWithPadding(tokenizer)\n",
    "train_dataloader = DataLoader(train_dataset, shuffle=True, collate_fn=data_collator, \n",
    "                    batch_size=batch_size, num_workers=4)\n",
    "valid_dataloader = DataLoader(valid_dataset, collate_fn=data_collator, \n",
    "                    batch_size=batch_size, num_workers=4)"
   ]
  },
  {
   "cell_type": "code",
   "execution_count": 14,
   "metadata": {},
   "outputs": [
    {
     "name": "stderr",
     "output_type": "stream",
     "text": [
      "/home/guest/r11922a05/anaconda3/envs/adl-hw1/lib/python3.9/site-packages/transformers/optimization.py:306: FutureWarning: This implementation of AdamW is deprecated and will be removed in a future version. Use the PyTorch implementation torch.optim.AdamW instead, or set `no_deprecation_warning=True` to disable this warning\n",
      "  warnings.warn(\n"
     ]
    }
   ],
   "source": [
    "no_decay = [\"bias\", \"LayerNorm.weight\"]\n",
    "weight_decay = 1e-2\n",
    "lr = 3e-5\n",
    "optimizer_gparams = [\n",
    "    {\n",
    "        \"params\": [p for n, p in model.named_parameters() if not any(nd in n for nd in no_decay)],\n",
    "        \"weight_decay\": weight_decay,\n",
    "    },\n",
    "    {\n",
    "        \"params\": [p for n, p in model.named_parameters() if any(nd in n for nd in no_decay)],\n",
    "        \"weight_decay\": 0.0,\n",
    "    },\n",
    "]\n",
    "optimizer = AdamW(optimizer_gparams, lr=lr)"
   ]
  },
  {
   "cell_type": "code",
   "execution_count": 16,
   "metadata": {},
   "outputs": [],
   "source": [
    "accelerator = Accelerator()\n",
    "model, optimizer, train_dataloader, valid_dataloader = accelerator.prepare(\n",
    "    model, optimizer, train_dataloader, valid_dataloader\n",
    ")"
   ]
  },
  {
   "cell_type": "code",
   "execution_count": 18,
   "metadata": {},
   "outputs": [],
   "source": [
    "n_epoch = 5\n",
    "scheduler_type = 'linear'\n",
    "grad_accum_steps = 5\n",
    "warm_up_ratio = 0.1\n",
    "log_steps = 50\n",
    "\n",
    "update_steps_per_epoch = math.ceil(len(train_dataloader) / grad_accum_steps)\n",
    "max_update_steps = n_epoch * update_steps_per_epoch\n",
    "lr_scheduler = get_scheduler(\n",
    "    name=scheduler_type,\n",
    "    optimizer=optimizer,\n",
    "    num_warmup_steps=int(max_update_steps * warm_up_ratio),\n",
    "    num_training_steps=max_update_steps,\n",
    ")"
   ]
  },
  {
   "cell_type": "code",
   "execution_count": null,
   "metadata": {},
   "outputs": [],
   "source": [
    "eval_steps = 50\n",
    "max_valid_acc = 0\n",
    "for epoch in range(n_epoch):\n",
    "    total_loss = 0\n",
    "    for step, data in enumerate(train_dataloader, 1):\n",
    "        model.train()\n",
    "        outputs = model(**data)\n",
    "        loss = outputs.loss\n",
    "        total_loss += loss.item()\n",
    "        if len(train_dataloader) % grad_accum_steps != 0 \\\n",
    "                and len(train_dataloader) - step < grad_accum_steps:\n",
    "            loss = loss / (len(train_dataloader) % grad_accum_steps)\n",
    "        else:\n",
    "            loss = loss / grad_accum_steps\n",
    "        accelerator.backward(loss)\n",
    "        \n",
    "    # Update model parameters\n",
    "        if step % grad_accum_steps == 0 or step == len(train_dataloader):\n",
    "            optimizer.step()\n",
    "            lr_scheduler.step()\n",
    "            optimizer.zero_grad()\n",
    "    # Log train loss\n",
    "        if step % log_steps == 0 or step == len(train_dataloader):\n",
    "            print(\"Train | Loss: {:.5f}\".format(total_loss / step))\n",
    "    # Evaluate!\n",
    "        if step % eval_steps == 0 or step == len(train_dataloader)):\n",
    "            model.eval()\n",
    "            all_logits = []\n",
    "            for step, data in enumerate(valid_dataloader):\n",
    "                with torch.no_grad():\n",
    "                    outputs = model(**data)\n",
    "                    predictions = outputs.logits.argmax(dim=-1)\n",
    "                    metrics.add_batch(predictions=accelerator.gather(predictions),\n",
    "                                    references=accelerator.gather(data[\"labels\"]))\n",
    "            valid_acc = metrics.compute()[\"accuracy\"]\n",
    "            print(\"Valid | Acc: {:.5f}\".format(valid_acc))\n",
    "            if valid_acc >= max_valid_acc:\n",
    "                max_valid_acc = valid_acc\n",
    "                accelerator.wait_for_everyone()\n",
    "                unwrapped_model = accelerator.unwrap_model(model)\n",
    "                unwrapped_model.save_pretrained(args.saved_dir, save_function=accelerator.save)\n",
    "                logger.info(\"Saving config and model to {}...\".format(args.saved_dir))\n",
    "if not args.valid_file:\n",
    "    accelerator.wait_for_everyone()\n",
    "    unwrapped_model = accelerator.unwrap_model(model)\n",
    "    unwrapped_model.save_pretrained(args.saved_dir, save_function=accelerator.save)\n",
    "    logger.info(\"Saving config and model to {}...\".format(args.saved_dir))"
   ]
  },
  {
   "cell_type": "markdown",
   "metadata": {},
   "source": [
    "# Inference\n",
    "- see https://github.com/huggingface/transformers/blob/main/examples/pytorch/text-classification/run_xnli.py#L415"
   ]
  }
 ],
 "metadata": {
  "kernelspec": {
   "display_name": "Python 3.9.13 ('adl-hw1')",
   "language": "python",
   "name": "python3"
  },
  "language_info": {
   "codemirror_mode": {
    "name": "ipython",
    "version": 3
   },
   "file_extension": ".py",
   "mimetype": "text/x-python",
   "name": "python",
   "nbconvert_exporter": "python",
   "pygments_lexer": "ipython3",
   "version": "3.9.13"
  },
  "orig_nbformat": 4,
  "vscode": {
   "interpreter": {
    "hash": "075153796ce283a1135a05df4a88665148f05cfe94be538ea710087659147986"
   }
  }
 },
 "nbformat": 4,
 "nbformat_minor": 2
}
