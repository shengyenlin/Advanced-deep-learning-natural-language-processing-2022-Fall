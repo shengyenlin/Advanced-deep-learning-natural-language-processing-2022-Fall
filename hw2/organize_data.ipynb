{
 "cells": [
  {
   "cell_type": "code",
   "execution_count": null,
   "id": "2d7d7dae-9aac-49a1-b5b2-398206317c29",
   "metadata": {},
   "outputs": [],
   "source": [
    "import json\n",
    "import numpy as np\n",
    "import pandas as pd\n",
    "from pathlib import Path\n",
    "from sklearn import model_selection\n",
    "\n",
    "DATADIR = Path('./data')\n",
    "WORKDIR = Path('./work')"
   ]
  },
  {
   "cell_type": "code",
   "execution_count": null,
   "id": "911b53b1-309b-444a-93b9-858f97a3b5bb",
   "metadata": {},
   "outputs": [
    {
     "data": {
      "text/plain": [
       "(9013, 21714, 3009)"
      ]
     },
     "metadata": {},
     "output_type": "display_data"
    }
   ],
   "source": [
    "context_json = json.load(open(DATADIR / 'context.json'))  # list of strings\n",
    "train_json = json.load(open(DATADIR / 'train.json'))\n",
    "valid_json = json.load(open(DATADIR / 'valid.json'))\n",
    "\n",
    "len(context_json), len(train_json), len(valid_json)"
   ]
  },
  {
   "cell_type": "code",
   "execution_count": null,
   "id": "7253b979-ddc8-44f3-b5a2-6be028f02bb9",
   "metadata": {},
   "outputs": [
    {
     "data": {
      "text/plain": [
       "({'id': '593f14f960d971e294af884f0194b3a7',\n",
       "  'question': '舍本和誰的數據能推算出連星的恆星的質量？',\n",
       "  'paragraphs': [2018, 6952, 8264, 836],\n",
       "  'relevant': 836,\n",
       "  'answer': {'text': '斯特魯維', 'start': 108}},\n",
       " '----------------------------------------------------------------------------------------------------',\n",
       " {'sent1': '舍本和誰的數據能推算出連星的恆星的質量？',\n",
       "  'sent2': '',\n",
       "  'ending0': '1930年，印度物理學家蘇布拉馬尼揚·錢德拉塞卡根據廣義相對論計算出質量大於1.4倍太陽質量的非轉動星體會因重力塌縮成為電子簡併態。愛丁頓雖然在理論上支持黑洞存在的可能性，但同時認為錢德拉塞卡的觀點事實上不能成立，他認為「應當有某種自然定律阻止恆星出現這種荒唐的行為」。當時的物理學家如波耳、亨利·羅素等人都贊同錢德拉塞卡的理論，但出於愛丁頓聲望的原因，他們並沒有公開對錢德拉塞卡表示支持。不過從某種意義上說，愛丁頓也是正確的，當恆星質量大於錢德拉塞卡極限後，確實仍然會有中子簡併壓力阻止恆星繼續塌縮。到了1939年，美國物理學家羅伯特·歐本海默等人推算了這種情形的恆星質量上限，這個極限被稱作托爾曼-歐本海默-沃爾科夫極限。當今的天體物理學家普遍認為，除非有如未知的夸克簡併壓力一類因素的存在，質量大於托爾曼-歐本海默-沃爾科夫極限的恆星將最終會塌縮為錢德拉塞卡所預言的黑洞。即使如此，史瓦西解作為當時能夠描述黑洞行為的唯一精確解，由於具有一些讓人看似不大優美的性質以及難以與實驗觀測相聯繫，一直沒有進入主流物理學研究的視野，關於黑洞的理論乃至整個廣義相對論領域的研究由此擱置了二十年之久。',\n",
       "  'ending1': '心理學是否為自然科學的範圍，目前也尚存爭議，一般較廣為接受的說法是心理學同時包含在自然科學與社會科學的範疇之中。自然科學的根本目的在於尋找隱藏在自然現象背後的規律，但是自然科學的工作尚不包括研究為什麼會存在這些規律。自然科學認為超自然的、隨意的和自相矛盾的現象是不存在的。自然科學的最重要的兩個支柱是觀察和邏輯推理。由對自然的觀察和邏輯推理自然科學可以引導出大自然中的規律。假如觀察的現象與規律的預言不同，那麼要麼是因為觀察中有錯誤，要麼是因為至此為止被認為是正確的規律是錯誤的。一個超自然因素是不存在的。',\n",
       "  'ending2': '這是一個長久以來就存在的假設，大多數的恆星都是長期處在特定重力場的多星或聯星系統。特別是許多大質量的歐和逼型恆星，有80%被認為是多星系統的一部分。然而，質量越低的恆星，單獨存在的比例顯然越高，只有25%的紅矮星被發現有伴星。因為85%的恆星是紅矮星，所以在銀河系內多數的恆星都是單獨誕生的。恆星在宇宙中的分布是不均勻的，並且通常都是成群的與星際間的氣體、塵埃一起存在於星系中。一個典型的星系擁有數千億顆的恆星，而在可觀測宇宙中的星系數量超過一千億個。2010年對恆星數量的估計是在可觀測宇宙中有3000垓顆。儘管人們往往認為恆星僅存在於星系中，但星系際的恆星已經被發現了。',\n",
       "  'ending3': '在19世紀雙星觀測所獲得的成就使重要性也增加了。在1834年，白塞爾觀測到天狼星自行的變化，因而推測有一顆隱藏的伴星；愛德華·皮克林在1899年觀測開陽週期性分裂的光譜線時發現第一顆光譜雙星，週期是104天。天文學家斯特魯維和舍本·衛斯里·伯納姆仔細的觀察和收集了許多聯星的資料，使得可以從被確定的軌道要素推算出恆星的質量。第一個獲得解答的是1827年由菲利克斯·薩瓦里透過望遠鏡的觀測得到的聯星軌道。對恆星的科學研究在20世紀獲得快速的進展，相片成為天文學上很有價值的工具。卡爾·史瓦西發現經由比較視星等和攝影星等的差別，可以得到恆星的顏色和它的溫度。1921年，光電光度計的發展可以在不同的波長間隔上非常精密的測量星等。阿爾伯特·邁克生在虎克望遠鏡第一次使用干涉儀測量出恆星的直徑。',\n",
       "  'label': 3})"
      ]
     },
     "metadata": {},
     "output_type": "display_data"
    }
   ],
   "source": [
    "def convert_example_to_swag(example, contexts):\n",
    "    conv = {\n",
    "        'sent1': example['question'],\n",
    "        'sent2': '',  # will be merely prepended to each ending so can be empty\n",
    "        'ending0': contexts[example['paragraphs'][0]],\n",
    "        'ending1': contexts[example['paragraphs'][1]],\n",
    "        'ending2': contexts[example['paragraphs'][2]],\n",
    "        'ending3': contexts[example['paragraphs'][3]],\n",
    "    }\n",
    "    if 'relevant' in example:\n",
    "        conv['label'] = example['paragraphs'].index(example['relevant'])\n",
    "    return conv\n",
    "\n",
    "# Test on one example\n",
    "train_json[0], '-'*100,\\\n",
    "convert_example_to_swag(train_json[0], context_json)"
   ]
  },
  {
   "cell_type": "code",
   "execution_count": null,
   "id": "12973086-1a9d-482c-99a4-0ea162174b9f",
   "metadata": {},
   "outputs": [],
   "source": [
    "def convert_dataset_to_swag(examples, contexts, path):\n",
    "    conv = [convert_example_to_swag(ex, contexts) for ex in examples]\n",
    "    path = Path(path).absolute()\n",
    "    path.parent.mkdir(parents=True, exist_ok=True)\n",
    "    with open(path, 'w') as fp:\n",
    "        json.dump(conv, fp, indent=2, ensure_ascii=False)\n",
    "\n",
    "convert_dataset_to_swag(train_json, context_json, WORKDIR / 'train_swag.json')\n",
    "convert_dataset_to_swag(valid_json, context_json, WORKDIR / 'valid_swag.json')"
   ]
  },
  {
   "cell_type": "code",
   "execution_count": null,
   "id": "a72496e1",
   "metadata": {},
   "outputs": [
    {
     "data": {
      "text/plain": [
       "PosixPath('/home/guest/r11922a05/ADL/ADL21-HW2/work/train_swag.json')"
      ]
     },
     "metadata": {},
     "output_type": "display_data"
    }
   ],
   "source": [
    "Path(WORKDIR / 'train_swag.json').absolute()"
   ]
  },
  {
   "cell_type": "markdown",
   "id": "f99e9f5e-7510-45f2-9ba3-e4b368aa2c1f",
   "metadata": {},
   "source": [
    "## Convert dataset to SQUAD format for QA subtask"
   ]
  },
  {
   "cell_type": "markdown",
   "id": "c826d9c5-8e00-458a-8859-9e79073e3095",
   "metadata": {},
   "source": [
    "Ref: https://huggingface.co/datasets/squad_v2"
   ]
  },
  {
   "cell_type": "code",
   "execution_count": null,
   "id": "5b631fc4-023f-4cf1-80f2-961b2a0279c4",
   "metadata": {},
   "outputs": [
    {
     "data": {
      "text/plain": [
       "({'id': '593f14f960d971e294af884f0194b3a7',\n",
       "  'question': '舍本和誰的數據能推算出連星的恆星的質量？',\n",
       "  'paragraphs': [2018, 6952, 8264, 836],\n",
       "  'relevant': 836,\n",
       "  'answer': {'text': '斯特魯維', 'start': 108}},\n",
       " '----------------------------------------------------------------------------------------------------',\n",
       " {'id': '593f14f960d971e294af884f0194b3a7',\n",
       "  'title': '593f14f960d971e294af884f0194b3a7',\n",
       "  'context': '在19世紀雙星觀測所獲得的成就使重要性也增加了。在1834年，白塞爾觀測到天狼星自行的變化，因而推測有一顆隱藏的伴星；愛德華·皮克林在1899年觀測開陽週期性分裂的光譜線時發現第一顆光譜雙星，週期是104天。天文學家斯特魯維和舍本·衛斯里·伯納姆仔細的觀察和收集了許多聯星的資料，使得可以從被確定的軌道要素推算出恆星的質量。第一個獲得解答的是1827年由菲利克斯·薩瓦里透過望遠鏡的觀測得到的聯星軌道。對恆星的科學研究在20世紀獲得快速的進展，相片成為天文學上很有價值的工具。卡爾·史瓦西發現經由比較視星等和攝影星等的差別，可以得到恆星的顏色和它的溫度。1921年，光電光度計的發展可以在不同的波長間隔上非常精密的測量星等。阿爾伯特·邁克生在虎克望遠鏡第一次使用干涉儀測量出恆星的直徑。',\n",
       "  'question': '舍本和誰的數據能推算出連星的恆星的質量？',\n",
       "  'answers': {'text': ['斯特魯維'], 'answer_start': [108]}})"
      ]
     },
     "metadata": {},
     "output_type": "display_data"
    }
   ],
   "source": [
    "def convert_example_to_squad(example, contexts):\n",
    "    assert contexts[example['relevant']][example['answer']['start']:].startswith(example['answer']['text'])\n",
    "    return {\n",
    "        'id': example['id'],\n",
    "        'title': example['id'],\n",
    "        'context': contexts[example['relevant']],\n",
    "        'question': example['question'],\n",
    "        'answers': {\n",
    "            'text': [example['answer']['text']],\n",
    "            'answer_start': [example['answer']['start']],\n",
    "        },\n",
    "    }\n",
    "\n",
    "# Test on one example\n",
    "train_json[0], '-'*100,\\\n",
    "convert_example_to_squad(train_json[0], context_json)"
   ]
  },
  {
   "cell_type": "code",
   "execution_count": null,
   "id": "d7c5aa74-b9f9-486a-a1fe-2b65a53611e8",
   "metadata": {},
   "outputs": [],
   "source": [
    "def convert_dataset_to_squad(examples, contexts, path):\n",
    "    conv = [convert_example_to_squad(ex, contexts) for ex in examples]\n",
    "    conv = {'data': conv}\n",
    "    path = Path(path).absolute()\n",
    "    path.parent.mkdir(parents=True, exist_ok=True)\n",
    "    with open(path, 'w') as fp:\n",
    "        json.dump(conv, fp, indent=2, ensure_ascii=False)\n",
    "\n",
    "convert_dataset_to_squad(train_json, context_json, WORKDIR / 'train_squad.json')\n",
    "convert_dataset_to_squad(valid_json, context_json, WORKDIR / 'valid_squad.json')"
   ]
  }
 ],
 "metadata": {
  "kernelspec": {
   "display_name": "Python 3.9.13 ('adl-hw1')",
   "language": "python",
   "name": "python3"
  },
  "language_info": {
   "name": "python",
   "version": "3.9.13"
  },
  "orig_nbformat": 4,
  "vscode": {
   "interpreter": {
    "hash": "075153796ce283a1135a05df4a88665148f05cfe94be538ea710087659147986"
   }
  }
 },
 "nbformat": 4,
 "nbformat_minor": 2
}
