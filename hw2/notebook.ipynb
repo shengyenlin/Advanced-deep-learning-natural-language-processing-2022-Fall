{
 "cells": [
  {
   "cell_type": "markdown",
   "id": "a876582f-4e48-45fc-af2e-77ca03e6fcd0",
   "metadata": {},
   "source": [
    "## Prerequisites"
   ]
  },
  {
   "cell_type": "code",
   "execution_count": null,
   "id": "337c8b97-8915-4433-a0d4-8ab5a17d81ac",
   "metadata": {},
   "outputs": [],
   "source": [
    "!pip install -r requirements.txt"
   ]
  },
  {
   "cell_type": "code",
   "execution_count": 1,
   "id": "29603e0f-3eb0-4061-be52-7c5b852ddc35",
   "metadata": {},
   "outputs": [],
   "source": [
    "import torch\n",
    "import transformers\n",
    "assert torch.cuda.is_available()"
   ]
  },
  {
   "cell_type": "markdown",
   "id": "3c106963-9ae8-41cf-97c3-bb784537b730",
   "metadata": {},
   "source": [
    "## Read data"
   ]
  },
  {
   "cell_type": "code",
   "execution_count": 2,
   "id": "2d7d7dae-9aac-49a1-b5b2-398206317c29",
   "metadata": {},
   "outputs": [],
   "source": [
    "import json\n",
    "import numpy as np\n",
    "import pandas as pd\n",
    "from pathlib import Path\n",
    "from sklearn import model_selection\n",
    "\n",
    "DATADIR = Path('./data')\n",
    "WORKDIR = Path('./work')"
   ]
  },
  {
   "cell_type": "code",
   "execution_count": 3,
   "id": "911b53b1-309b-444a-93b9-858f97a3b5bb",
   "metadata": {},
   "outputs": [
    {
     "data": {
      "text/plain": [
       "(9013, 21714, 3009)"
      ]
     },
     "execution_count": 3,
     "metadata": {},
     "output_type": "execute_result"
    }
   ],
   "source": [
    "context_json = json.load(open(DATADIR / 'context.json'))  # list of strings\n",
    "train_json = json.load(open(DATADIR / 'train.json'))\n",
    "valid_json = json.load(open(DATADIR / 'valid.json'))\n",
    "\n",
    "len(context_json), len(train_json), len(valid_json)"
   ]
  },
  {
   "cell_type": "code",
   "execution_count": 4,
   "id": "9946a07b-cde5-44e7-bc23-056514e7dd0b",
   "metadata": {},
   "outputs": [
    {
     "name": "stdout",
     "output_type": "stream",
     "text": [
      "context length med: 405.0 top: [1186, 1189, 1236, 1242, 1248, 1331, 1349, 1352, 1428, 1765]\n",
      "answer start med: 147.0 top: [980, 1016, 1026, 1035, 1071, 1083, 1104, 1145, 1236, 1254]\n"
     ]
    },
    {
     "data": {
      "image/png": "[encoded data removed]",
      "text/plain": [
       "<Figure size 640x480 with 1 Axes>"
      ]
     },
     "metadata": {},
     "output_type": "display_data"
    }
   ],
   "source": [
    "# context lengths and answer start distribution\n",
    "\n",
    "lens = pd.Series(len(s) for s in context_json)\n",
    "print('context length med:', lens.median(), 'top:', sorted(lens)[-10:])\n",
    "lens.hist(bins=100, alpha=.7);\n",
    "\n",
    "st = pd.Series(ex['answer']['start'] for ex in train_json)\n",
    "print('answer start med:', st.median(), 'top:', sorted(st)[-10:])\n",
    "st.hist(bins=100, alpha=.7);"
   ]
  },
  {
   "cell_type": "code",
   "execution_count": 5,
   "id": "c4fb21a7-296b-4709-b9b3-216e22b5803d",
   "metadata": {},
   "outputs": [
    {
     "name": "stdout",
     "output_type": "stream",
     "text": [
      "answer len med: 4.0 top: [38, 38, 40, 41, 41, 41, 42, 45, 49, 50, 52, 52, 60, 78, 118]\n"
     ]
    },
    {
     "data": {
      "image/png": "[encoded data removed]",
      "text/plain": [
       "<Figure size 640x480 with 1 Axes>"
      ]
     },
     "metadata": {},
     "output_type": "display_data"
    }
   ],
   "source": [
    "# answer lengths distribution\n",
    "lens = pd.Series(len(ex['answer']['text']) for ex in train_json)\n",
    "print('answer len med:', lens.median(), 'top:', sorted(lens)[-15:])\n",
    "lens.hist(bins=100);"
   ]
  },
  {
   "cell_type": "markdown",
   "id": "27fa2888-9ac9-443e-b69b-1acd6260a830",
   "metadata": {},
   "source": [
    "`--answer_length=40` (up from default 30) should be a reasonable setting."
   ]
  },
  {
   "cell_type": "markdown",
   "id": "fec4c8aa-eb04-4129-9302-e8846ae288fb",
   "metadata": {},
   "source": [
    "## Convert dataset to SWAG format for context selection subtask"
   ]
  },
  {
   "cell_type": "markdown",
   "id": "2daa298b-0007-4a84-bcab-db25672f8f20",
   "metadata": {},
   "source": [
    "Reference: https://huggingface.co/datasets/swag#data-instances\n"
   ]
  },
  {
   "cell_type": "code",
   "execution_count": 9,
   "id": "7253b979-ddc8-44f3-b5a2-6be028f02bb9",
   "metadata": {},
   "outputs": [
    {
     "data": {
      "text/plain": [
       "({'id': '593f14f960d971e294af884f0194b3a7',\n",
       "  'question': '舍本和誰的數據能推算出連星的恆星的質量？',\n",
       "  'paragraphs': [2018, 6952, 8264, 836],\n",
       "  'relevant': 836,\n",
       "  'answer': {'text': '斯特魯維', 'start': 108}},\n",
       " '----------------------------------------------------------------------------------------------------',\n",
       " {'sent1': '舍本和誰的數據能推算出連星的恆星的質量？',\n",
       "  'sent2': '',\n",
       "  'ending0': '1930年，印度物理學家蘇布拉馬尼揚·錢德拉塞卡根據廣義相對論計算出質量大於1.4倍太陽質量的非轉動星體會因重力塌縮成為電子簡併態。愛丁頓雖然在理論上支持黑洞存在的可能性，但同時認為錢德拉塞卡的觀點事實上不能成立，他認為「應當有某種自然定律阻止恆星出現這種荒唐的行為」。當時的物理學家如波耳、亨利·羅素等人都贊同錢德拉塞卡的理論，但出於愛丁頓聲望的原因，他們並沒有公開對錢德拉塞卡表示支持。不過從某種意義上說，愛丁頓也是正確的，當恆星質量大於錢德拉塞卡極限後，確實仍然會有中子簡併壓力阻止恆星繼續塌縮。到了1939年，美國物理學家羅伯特·歐本海默等人推算了這種情形的恆星質量上限，這個極限被稱作托爾曼-歐本海默-沃爾科夫極限。當今的天體物理學家普遍認為，除非有如未知的夸克簡併壓力一類因素的存在，質量大於托爾曼-歐本海默-沃爾科夫極限的恆星將最終會塌縮為錢德拉塞卡所預言的黑洞。即使如此，史瓦西解作為當時能夠描述黑洞行為的唯一精確解，由於具有一些讓人看似不大優美的性質以及難以與實驗觀測相聯繫，一直沒有進入主流物理學研究的視野，關於黑洞的理論乃至整個廣義相對論領域的研究由此擱置了二十年之久。',\n",
       "  'ending1': '心理學是否為自然科學的範圍，目前也尚存爭議，一般較廣為接受的說法是心理學同時包含在自然科學與社會科學的範疇之中。自然科學的根本目的在於尋找隱藏在自然現象背後的規律，但是自然科學的工作尚不包括研究為什麼會存在這些規律。自然科學認為超自然的、隨意的和自相矛盾的現象是不存在的。自然科學的最重要的兩個支柱是觀察和邏輯推理。由對自然的觀察和邏輯推理自然科學可以引導出大自然中的規律。假如觀察的現象與規律的預言不同，那麼要麼是因為觀察中有錯誤，要麼是因為至此為止被認為是正確的規律是錯誤的。一個超自然因素是不存在的。',\n",
       "  'ending2': '這是一個長久以來就存在的假設，大多數的恆星都是長期處在特定重力場的多星或聯星系統。特別是許多大質量的歐和逼型恆星，有80%被認為是多星系統的一部分。然而，質量越低的恆星，單獨存在的比例顯然越高，只有25%的紅矮星被發現有伴星。因為85%的恆星是紅矮星，所以在銀河系內多數的恆星都是單獨誕生的。恆星在宇宙中的分布是不均勻的，並且通常都是成群的與星際間的氣體、塵埃一起存在於星系中。一個典型的星系擁有數千億顆的恆星，而在可觀測宇宙中的星系數量超過一千億個。2010年對恆星數量的估計是在可觀測宇宙中有3000垓顆。儘管人們往往認為恆星僅存在於星系中，但星系際的恆星已經被發現了。',\n",
       "  'ending3': '在19世紀雙星觀測所獲得的成就使重要性也增加了。在1834年，白塞爾觀測到天狼星自行的變化，因而推測有一顆隱藏的伴星；愛德華·皮克林在1899年觀測開陽週期性分裂的光譜線時發現第一顆光譜雙星，週期是104天。天文學家斯特魯維和舍本·衛斯里·伯納姆仔細的觀察和收集了許多聯星的資料，使得可以從被確定的軌道要素推算出恆星的質量。第一個獲得解答的是1827年由菲利克斯·薩瓦里透過望遠鏡的觀測得到的聯星軌道。對恆星的科學研究在20世紀獲得快速的進展，相片成為天文學上很有價值的工具。卡爾·史瓦西發現經由比較視星等和攝影星等的差別，可以得到恆星的顏色和它的溫度。1921年，光電光度計的發展可以在不同的波長間隔上非常精密的測量星等。阿爾伯特·邁克生在虎克望遠鏡第一次使用干涉儀測量出恆星的直徑。',\n",
       "  'label': 3})"
      ]
     },
     "execution_count": 9,
     "metadata": {},
     "output_type": "execute_result"
    }
   ],
   "source": [
    "def convert_example_to_swag(example, contexts):\n",
    "    conv = {\n",
    "        'sent1': example['question'],\n",
    "        'sent2': '',  # will be merely prepended to each ending so can be empty\n",
    "        'ending0': contexts[example['paragraphs'][0]],\n",
    "        'ending1': contexts[example['paragraphs'][1]],\n",
    "        'ending2': contexts[example['paragraphs'][2]],\n",
    "        'ending3': contexts[example['paragraphs'][3]],\n",
    "    }\n",
    "    if 'relevant' in example:\n",
    "        conv['label'] = example['paragraphs'].index(example['relevant'])\n",
    "    return conv\n",
    "\n",
    "# Test on one example\n",
    "train_json[0], '-'*100,\\\n",
    "convert_example_to_swag(train_json[0], context_json)"
   ]
  },
  {
   "cell_type": "code",
   "execution_count": 10,
   "id": "12973086-1a9d-482c-99a4-0ea162174b9f",
   "metadata": {},
   "outputs": [],
   "source": [
    "def convert_dataset_to_swag(examples, contexts, path):\n",
    "    conv = [convert_example_to_swag(ex, contexts) for ex in examples]\n",
    "    path = Path(path).absolute()\n",
    "    path.parent.mkdir(parents=True, exist_ok=True)\n",
    "    with open(path, 'w') as fp:\n",
    "        json.dump(conv, fp, indent=2, ensure_ascii=False)\n",
    "\n",
    "convert_dataset_to_swag(train_json, context_json, WORKDIR / 'train_swag.json')\n",
    "convert_dataset_to_swag(valid_json, context_json, WORKDIR / 'valid_swag.json')"
   ]
  },
  {
   "cell_type": "code",
   "execution_count": 9,
   "id": "a72496e1",
   "metadata": {},
   "outputs": [
    {
     "data": {
      "text/plain": [
       "PosixPath('/home/guest/r11922a05/ADL/ADL21-HW2/work/train_swag.json')"
      ]
     },
     "execution_count": 9,
     "metadata": {},
     "output_type": "execute_result"
    }
   ],
   "source": [
    "Path(WORKDIR / 'train_swag.json').absolute()"
   ]
  },
  {
   "cell_type": "markdown",
   "id": "f99e9f5e-7510-45f2-9ba3-e4b368aa2c1f",
   "metadata": {},
   "source": [
    "## Convert dataset to SQUAD format for QA subtask"
   ]
  },
  {
   "cell_type": "markdown",
   "id": "c826d9c5-8e00-458a-8859-9e79073e3095",
   "metadata": {},
   "source": [
    "Ref: https://huggingface.co/datasets/squad_v2"
   ]
  },
  {
   "cell_type": "code",
   "execution_count": 4,
   "id": "5b631fc4-023f-4cf1-80f2-961b2a0279c4",
   "metadata": {},
   "outputs": [
    {
     "data": {
      "text/plain": [
       "({'id': '593f14f960d971e294af884f0194b3a7',\n",
       "  'question': '舍本和誰的數據能推算出連星的恆星的質量？',\n",
       "  'paragraphs': [2018, 6952, 8264, 836],\n",
       "  'relevant': 836,\n",
       "  'answer': {'text': '斯特魯維', 'start': 108}},\n",
       " '----------------------------------------------------------------------------------------------------',\n",
       " {'id': '593f14f960d971e294af884f0194b3a7',\n",
       "  'title': '593f14f960d971e294af884f0194b3a7',\n",
       "  'context': '在19世紀雙星觀測所獲得的成就使重要性也增加了。在1834年，白塞爾觀測到天狼星自行的變化，因而推測有一顆隱藏的伴星；愛德華·皮克林在1899年觀測開陽週期性分裂的光譜線時發現第一顆光譜雙星，週期是104天。天文學家斯特魯維和舍本·衛斯里·伯納姆仔細的觀察和收集了許多聯星的資料，使得可以從被確定的軌道要素推算出恆星的質量。第一個獲得解答的是1827年由菲利克斯·薩瓦里透過望遠鏡的觀測得到的聯星軌道。對恆星的科學研究在20世紀獲得快速的進展，相片成為天文學上很有價值的工具。卡爾·史瓦西發現經由比較視星等和攝影星等的差別，可以得到恆星的顏色和它的溫度。1921年，光電光度計的發展可以在不同的波長間隔上非常精密的測量星等。阿爾伯特·邁克生在虎克望遠鏡第一次使用干涉儀測量出恆星的直徑。',\n",
       "  'question': '舍本和誰的數據能推算出連星的恆星的質量？',\n",
       "  'answers': {'text': ['斯特魯維'], 'answer_start': [108]}})"
      ]
     },
     "execution_count": 4,
     "metadata": {},
     "output_type": "execute_result"
    }
   ],
   "source": [
    "def convert_example_to_squad(example, contexts):\n",
    "    assert contexts[example['relevant']][example['answer']['start']:].startswith(example['answer']['text'])\n",
    "    return {\n",
    "        'id': example['id'],\n",
    "        'title': example['id'],\n",
    "        'context': contexts[example['relevant']],\n",
    "        'question': example['question'],\n",
    "        'answers': {\n",
    "            'text': [example['answer']['text']],\n",
    "            'answer_start': [example['answer']['start']],\n",
    "        },\n",
    "    }\n",
    "\n",
    "# Test on one example\n",
    "train_json[0], '-'*100,\\\n",
    "convert_example_to_squad(train_json[0], context_json)"
   ]
  },
  {
   "cell_type": "code",
   "execution_count": 5,
   "id": "d7c5aa74-b9f9-486a-a1fe-2b65a53611e8",
   "metadata": {},
   "outputs": [],
   "source": [
    "def convert_dataset_to_squad(examples, contexts, path):\n",
    "    conv = [convert_example_to_squad(ex, contexts) for ex in examples]\n",
    "    conv = {'data': conv}\n",
    "    path = Path(path).absolute()\n",
    "    path.parent.mkdir(parents=True, exist_ok=True)\n",
    "    with open(path, 'w') as fp:\n",
    "        json.dump(conv, fp, indent=2, ensure_ascii=False)\n",
    "\n",
    "convert_dataset_to_squad(train_json, context_json, WORKDIR / 'train_squad.json')\n",
    "convert_dataset_to_squad(valid_json, context_json, WORKDIR / 'valid_squad.json')"
   ]
  },
  {
   "cell_type": "markdown",
   "id": "ae5d8787-f869-4d88-84e4-6c34a9e601b0",
   "metadata": {},
   "source": [
    "## Baseline model training"
   ]
  },
  {
   "cell_type": "markdown",
   "id": "7b037915-8963-41d9-8539-68dbb862f2bf",
   "metadata": {},
   "source": [
    "Context selection:\n",
    "\n",
    "```sh\n",
    "python run_swag_no_trainer.py \\\n",
    "  --model_name_or_path=bert-base-chinese \\\n",
    "  --train_file=work/train_swag.json \\\n",
    "  --validation_file=work/valid_swag.json \\\n",
    "  --max_length=384 \\\n",
    "  --per_device_train_batch_size=1 \\\n",
    "  --gradient_accumulation_steps=2 \\\n",
    "  --learning_rate=3e-5 \\\n",
    "  --num_train_epochs=1 \\\n",
    "  --checkpointing_steps=1000 \\\n",
    "  --output_dir=work/baseline-swag-run1\n",
    "```\n",
    "\n",
    "* 1h on GTX 1080\n",
    "* Validation accuracy 0.9335"
   ]
  },
  {
   "cell_type": "markdown",
   "id": "6f4dcd2c-b80f-45ee-856b-6f103d98c3c5",
   "metadata": {},
   "source": [
    "Question answering:\n",
    "\n",
    "```sh\n",
    "python run_qa_no_trainer.py \\\n",
    "  --model_name_or_path=bert-base-chinese \\\n",
    "  --train_file=work/train_squad.json \\\n",
    "  --validation_file=work/valid_squad.json \\\n",
    "  --max_seq_length=384 \\\n",
    "  --per_device_train_batch_size=1 \\\n",
    "  --gradient_accumulation_steps=2 \\\n",
    "  --learning_rate=3e-5 \\\n",
    "  --num_train_epochs=1 \\\n",
    "  --checkpointing_steps=1000 \\\n",
    "  --output_dir work/baseline-qa-run1\n",
    "```\n",
    "* 37 min on GTX 1080\n",
    "* Validation: exact_match 78.4314\n",
    "* Final score estimate: 0.9335*78.4314 = <font color=purple>**73.22**</font> - close enough to reported 'Simple Baseline' 0.73508"
   ]
  },
  {
   "cell_type": "markdown",
   "id": "8ca9aa8f-0115-43b3-b9e4-1500b3fe792d",
   "metadata": {},
   "source": [
    "## Experiments"
   ]
  },
  {
   "cell_type": "markdown",
   "id": "9c78931f-49e7-47b9-8e28-157f869a184a",
   "metadata": {},
   "source": [
    "### QA small experiments and trad/simplified initialization"
   ]
  },
  {
   "cell_type": "markdown",
   "id": "aeb7605a-46e8-4ff4-978b-faa6a04cf5ff",
   "metadata": {},
   "source": [
    "Original inputs are traditional but most pre-trained models seem biased towards simplified writing.\n",
    "Convert to simplified for experimentation:"
   ]
  },
  {
   "cell_type": "code",
   "execution_count": 11,
   "id": "3b2e1fdb-d24e-4aac-9437-b083df5fc6a6",
   "metadata": {},
   "outputs": [],
   "source": [
    "import opencc\n",
    "\n",
    "def deep_t2s(obj, conv):\n",
    "    if type(obj) is str:\n",
    "        res = conv.convert(obj)\n",
    "        assert len(res) == len(obj)\n",
    "        return res\n",
    "    elif type(obj) is list:\n",
    "        return [deep_t2s(x, conv) for x in obj]\n",
    "    elif type(obj) is dict:\n",
    "        return {k: deep_t2s(v, conv) for (k, v) in obj.items()}\n",
    "    else:\n",
    "        return obj\n",
    "\n",
    "# tw2sp changes lengths/offsets, not good\n",
    "for c in ['t2s', 'tw2s']:\n",
    "    train_s_json = deep_t2s(train_json, opencc.OpenCC(c))\n",
    "    valid_s_json = deep_t2s(valid_json, opencc.OpenCC(c))\n",
    "    context_s_json = deep_t2s(context_json, opencc.OpenCC(c))\n",
    "\n",
    "    convert_dataset_to_swag(train_s_json, context_s_json, WORKDIR / f'train_swag_{c}.json')\n",
    "    convert_dataset_to_swag(valid_s_json, context_s_json, WORKDIR / f'valid_swag_{c}.json')\n",
    "    convert_dataset_to_squad(train_s_json, context_s_json, WORKDIR / f'train_squad_{c}.json')\n",
    "    convert_dataset_to_squad(valid_s_json, context_s_json, WORKDIR / f'valid_squad_{c}.json')"
   ]
  },
  {
   "cell_type": "markdown",
   "id": "bcb9b055-f4f3-4438-bc9b-0a75313afeb4",
   "metadata": {},
   "source": [
    "```sh\n",
    "python run_qa_no_trainer.py \\\n",
    "  --model_name_or_path=bert-base-chinese \\\n",
    "  --train_file=work/train_squad.json \\\n",
    "  --validation_file=work/valid_squad.json \\\n",
    "  --max_seq_length=512 \\\n",
    "  --per_device_train_batch_size=8 \\\n",
    "  --gradient_accumulation_steps=2 \\\n",
    "  --learning_rate=5e-5 \\\n",
    "  --num_train_epochs=1 \\\n",
    "  --max_train_samples=1000 \\\n",
    "  --max_eval_samples=1000 \\\n",
    "  --max_answer_length=40 \\\n",
    "  --seed=42 \\\n",
    "  --output_dir work/qa-test\n",
    "\n",
    "                             exact match\n",
    "bert-base-chinese            26.4; t2s 27.5; tw2s 27.2\n",
    "hfl/chinese-bert-wwm         31.1; t2s 31.9; tw2s 31.7\n",
    "hfl/chinese-bert-wwm-ext     32.6; t2s 28.8 seed=111: 34.3; tw2s 31.1 seed=222 35.1;  t2s lr=3e-4 16.0, lr=3e-5 27.0\n",
    "hfl/chinese-roberta-wwm-ext  41.7; t2s 42.1; tw2s 42.5 seed=111 bs=8: 47.3 lr=3e-4: 41.8\n",
    "hfl/chinese-macbert-base     43.9 lr=3e-4 48.6; seed=111 bs=8: 47.5; bs=8: 40.5\n",
    "                         t2s 42.5 lr=3e-4 43.6; seed=111 bs=8: 48.1\n",
    "                        tw2s 42.9 lr=3e-4 46.8; seed=111 bs=8: 48.2\n",
    "IDEA-CCNL/Erlangshen-DeBERTa-v2-97M-Chinese\n",
    "                             33.1\n",
    "                         t2s 47.3 lr=3e-4: diverged, bs=8: 48.7\n",
    "                        tw2s 45.8 seed=111 bs=8: 47.1 lr=1e-5: 22.3\n",
    "random seeds:\n",
    "hfl/chinese-electra-180g-base-discriminator  t2s 15.0\n",
    "hfl/rbt6                           t2s 26.4\n",
    "ckiplab/bert-base-chinese    23.3, t2s 23.6\n",
    "microsoft/deberta-v3-base    26.2, t2s 29.0 31.8, tw2s 26.0  bs=8 lr=3e-4: 6.4 lr=1e-5:8.5\n",
    "```"
   ]
  },
  {
   "cell_type": "markdown",
   "id": "cb711aa0-caba-4749-aaee-3bfaba3c90db",
   "metadata": {},
   "source": [
    "* `roberta-wwm-ext`, `macbert-base`, `deberta` seem like the strongest pre-trained models based on these quick tests\n",
    "* `deberta-v3` is favorite in recent kaggle competitions, but there's only a generic multilingual available for it which performs less well than specialized chinese trained models\n",
    "* For many models, simplified input seems better - I guess due to the way they were trained, more data available in simplified, researchers bias etc.\n",
    "* Effect is particularly high for Erlangshen-DeBERTa and seems to be due to bias in vocabulary: ~100 traditional characters selected into vocab vs. thousands in other models. So need to fix up both embedding matrix and tokenizer vocab.\n",
    "\n",
    "Implemented --init-trad option to initialize embeddings for trad tokens from simplified, adding new tokens to tokenizer/embedding if necessary. Test:"
   ]
  },
  {
   "cell_type": "markdown",
   "id": "20218fab-c56b-4b22-868d-7768a32f1af8",
   "metadata": {},
   "source": [
    "```sh\n",
    "python run_qa_no_trainer.py \\\n",
    "  --model_name_or_path=IDEA-CCNL/Erlangshen-DeBERTa-v2-97M-Chinese \\\n",
    "  --train_file=work/train_squad.json \\\n",
    "  --validation_file=work/valid_squad.json \\\n",
    "  --max_seq_length=512 \\\n",
    "  --per_device_train_batch_size=8 \\\n",
    "  --gradient_accumulation_steps=2 \\\n",
    "  --learning_rate=5e-5 \\\n",
    "  --num_train_epochs=1 \\\n",
    "  --max_train_samples=1000 \\\n",
    "  --max_eval_samples=1000 \\\n",
    "  --max_answer_length=40 \\\n",
    "  --seed=42 \\\n",
    "  --output_dir work/qa-test\n",
    "  [+/- --init-trad]\n",
    "\n",
    "```\n",
    "* IDEA-CCNL/Erlangshen-DeBERTa-v2-97M-Chinese: 32.7 -> --init-trad: 46.1\n",
    "* bert-base-chinese: 26.4, --init-trad: 29.1\n",
    "* hfl/chinese-bert-wwm-ext: 32.6, --init-trad: 39.0\n",
    "* doesn't help:\n",
    "  * hfl/chinese-roberta-wwm-ext: 41.7, --init-trad: 41.3\n",
    "  * hfl/chinese-macbert-base: 43.9, --init-trad: 41.8"
   ]
  },
  {
   "cell_type": "markdown",
   "id": "d52c0b9e-2a91-44b0-9ada-c99c63bd29f1",
   "metadata": {},
   "source": [
    "#### SWAG"
   ]
  },
  {
   "cell_type": "markdown",
   "id": "2af07827-76d0-45bd-b46e-62d9ad567985",
   "metadata": {},
   "source": [
    "```sh\n",
    "python run_swag_no_trainer.py \\\n",
    "  --model_name_or_path=hfl/chinese-roberta-wwm-ext \\\n",
    "  --train_file=work/train_swag.json \\\n",
    "  --validation_file=work/valid_swag.json \\\n",
    "  --max_length=512 \\\n",
    "  --per_device_train_batch_size=2 \\\n",
    "  --gradient_accumulation_steps=8 \\\n",
    "  --learning_rate=3e-4 \\\n",
    "  --num_train_epochs=1 \\\n",
    "  --max_train_samples=1000 \\\n",
    "  --max_eval_samples=1000 \\\n",
    "  --seed=42 \\\n",
    "  --output_dir=work/swag-test\n",
    "\n",
    "                            accuracy\n",
    "bert-base-chinese           0.935, --init-trad 0.924\n",
    "IDEA-CCNL/Erlangshen-DeBERTa-v2-97M-Chinese  --init-trad 0.95\n",
    "hfl/chinese-bert-wwm-ext    --init-trad 0.931, lr=1e-5 0.922\n",
    "hfl/chinese-macbert-base    0.953\n",
    "hfl/chinese-roberta-wwm-ext 0.737\n",
    "```"
   ]
  },
  {
   "cell_type": "markdown",
   "id": "ad6efea7-b7e2-4bf6-950e-25f62c044800",
   "metadata": {},
   "source": [
    "When running training for more steps, in general accuracy seems to plateau around 96%. For 3-4% of the input the answer does not lie in the first 512 characters, so that's probably the limiting factor:"
   ]
  },
  {
   "cell_type": "code",
   "execution_count": 23,
   "id": "f0e341b7-2519-42e8-8f01-26f1552711b8",
   "metadata": {},
   "outputs": [
    {
     "data": {
      "text/plain": [
       "(0.03186884037947868, 0.036889332003988036)"
      ]
     },
     "execution_count": 23,
     "metadata": {},
     "output_type": "execute_result"
    }
   ],
   "source": [
    "sum([ex['answer']['start'] > 512 for ex in train_json])/len(train_json),\\\n",
    "sum([ex['answer']['start'] > 512 for ex in valid_json])/len(valid_json)"
   ]
  },
  {
   "cell_type": "markdown",
   "id": "da46e260-b96f-4f1f-a42a-a1e7777abd5b",
   "metadata": {},
   "source": [
    "Hard to fix via modelling as most pre-trained models limited to 512 sequence length. \n",
    "\n",
    "Proposal: fix this up in evaluation - run context selection model a second time from some offset and pick the higher score between two runs."
   ]
  },
  {
   "cell_type": "markdown",
   "id": "d1b3b4be-6b64-43e6-829e-b62b4559ddc6",
   "metadata": {},
   "source": [
    "### QA with concatenation/sum of last n layers in the prediction head"
   ]
  },
  {
   "cell_type": "markdown",
   "id": "3782db21-4c07-49ed-91ae-6741285cd36d",
   "metadata": {},
   "source": [
    "```sh\n",
    "python run_qa_no_trainer.py \\\n",
    "  --model_name_or_path=IDEA-CCNL/Erlangshen-DeBERTa-v2-97M-Chinese \\\n",
    "  --cat-n=3 --cat-op=cat --init-trad \\\n",
    "  --train_file=work/train_squad.json \\\n",
    "  --validation_file=work/valid_squad.json \\\n",
    "  --max_seq_length=512 \\\n",
    "  --per_device_train_batch_size=2 \\\n",
    "  --gradient_accumulation_steps=1 \\\n",
    "  --learning_rate=3e-5 \\\n",
    "  --num_train_epochs=1 \\\n",
    "  --max_train_samples=1000 \\\n",
    "  --max_eval_samples=1000 \\\n",
    "  --max_answer_length=40 \\\n",
    "  --seed=42 \\\n",
    "  --output_dir work/qa-test\n",
    "\n",
    "IDEA-CCNL/Erlangshen-DeBERTa-v2-97M-Chinese --init-trad 43.2, bs=8 48.8\n",
    "  --init-trad cat2 bs=2 48.9  51.3\n",
    "  --init-trad sum2 bs=2 \n",
    "  \n",
    "hfl/chinese-roberta-wwm-ext 44.2\n",
    "bert-base-chinese --init-trad 25.7\n",
    "hfl/chinese-macbert-base\n",
    "  --init-trad --seed=111 bs=8: 43.4, +lr=3e-4: 44.0;\n",
    "  --seed=111 bs=2 lr=3e-5: 49.8, --head-type=auto: 50.8, --init-trad: 48.4\n",
    "  --seed=111 bs=2 lr=1e-5: 38.7  lr=3e-4: diverged\n",
    "\n",
    "python run_qa_no_trainer.py \\\n",
    "  --model_name_or_path=IDEA-CCNL/Erlangshen-DeBERTa-v2-97M-Chinese \\\n",
    "  --cat-n=2 --init-trad \\\n",
    "  --train_file=work/train_squad.json \\\n",
    "  --validation_file=work/valid_squad.json \\\n",
    "  --max_seq_length=512 \\\n",
    "  --per_device_train_batch_size=2 \\\n",
    "  --gradient_accumulation_steps=1 \\\n",
    "  --learning_rate=3e-5 \\\n",
    "  --num_train_epochs=1 \\\n",
    "  --checkpointing_steps=256 \\\n",
    "  --max_eval_samples=1000 \\\n",
    "  --max_answer_length=40 \\\n",
    "  --seed=42 \\\n",
    "  --weight_decay=0.01 \\\n",
    "  --lr_scheduler_type=cosine \\\n",
    "  --output_dir work/qa-test\n",
    "  \n",
    "      exact match at each cheakpoint:\n",
    "auto  46.1 50.8 51.5 53.4 52.5 52.7 54.0 55.1\n",
    "cat4  47.9 50.0 53.0 56.2 53.9 55.7 54.4 55.4\n",
    "sum4  48.5 50.0 54.2 47.7 54.7 52.7 55.4 55.0\n",
    "sum2  48.6 51.6 53.4 49.9 54.6 55.0 55.6 57.3\n",
    "cat2  48.5 52.5 52.3 52.5 54.4 56.3 55.9 55.1\n",
    "```"
   ]
  },
  {
   "cell_type": "markdown",
   "id": "76ff9cdd-b2e1-4b37-aeae-d6d4687db352",
   "metadata": {},
   "source": [
    "## Ensemble"
   ]
  },
  {
   "cell_type": "markdown",
   "id": "429bfb9b-9a50-4834-862f-b823873df00f",
   "metadata": {},
   "source": [
    "swag: single model\n",
    "```sh\n",
    "python run_swag_no_trainer.py \\\n",
    "  --model_name_or_path=hfl/chinese-bert-wwm-ext \\\n",
    "  --init-trad \\\n",
    "  --train_file=work/train_swag.json \\\n",
    "  --validation_file=work/valid_swag.json \\\n",
    "  --max_length=512 \\\n",
    "  --per_device_train_batch_size=2 \\\n",
    "  --gradient_accumulation_steps=8 \\\n",
    "  --weight_decay=0.01 \\\n",
    "  --learning_rate=1e-5 \\\n",
    "  --lr_scheduler_type=cosine \\\n",
    "  --num_train_epochs=1 \\\n",
    "  --checkpointing_steps=128 \\\n",
    "  --max_eval_samples=3000 \\\n",
    "  --seed=42 \\\n",
    "  --output_dir=work/swag1\n",
    "accuracy 0.9688 (with second eval @384; one eval 0.9558)\n",
    "```\n",
    "\n",
    "qa: ensemble 3 different 12-layer pretrained models\n",
    "    \n",
    "```sh\n",
    "python run_qa_no_trainer.py \\\n",
    "  --model_name_or_path=IDEA-CCNL/Erlangshen-DeBERTa-v2-97M-Chinese \\\n",
    "  --cat-n=2 --cat-op=sum --init-trad \\\n",
    "  --train_file=work/train_squad.json \\\n",
    "  --validation_file=work/valid_squad.json \\\n",
    "  --max_seq_length=512 \\\n",
    "  --per_device_train_batch_size=2 \\\n",
    "  --gradient_accumulation_steps=1 \\\n",
    "  --learning_rate=3e-5 \\\n",
    "  --num_train_epochs=1 \\\n",
    "  --checkpointing_steps=2048 \\\n",
    "  --max_answer_length=40 \\\n",
    "  --seed=123 \\\n",
    "  --weight_decay=0.01 \\\n",
    "  --lr_scheduler_type=cosine \\\n",
    "  --output_dir work/qa1\n",
    "81.78796942505817\n",
    "\n",
    "python run_qa_no_trainer.py \\\n",
    "  --model_name_or_path=hfl/chinese-roberta-wwm-ext \\\n",
    "  --cat-n=2 --cat-op=cat \\\n",
    "  --train_file=work/train_squad.json \\\n",
    "  --validation_file=work/valid_squad.json \\\n",
    "  --max_seq_length=512 \\\n",
    "  --per_device_train_batch_size=2 \\\n",
    "  --gradient_accumulation_steps=1 \\\n",
    "  --learning_rate=3e-5 \\\n",
    "  --num_train_epochs=1 \\\n",
    "  --checkpointing_steps=2048 \\\n",
    "  --seed=456 \\\n",
    "  --weight_decay=0.01 \\\n",
    "  --lr_scheduler_type=cosine \\\n",
    "  --output_dir=work/qa2\n",
    "80.82419408441342\n",
    "\n",
    "python run_qa_no_trainer.py \\\n",
    "  --model_name_or_path=hfl/chinese-macbert-base \\\n",
    "  --cat-n=2 --cat-op=sum \\\n",
    "  --train_file=work/train_squad.json \\\n",
    "  --validation_file=work/valid_squad.json \\\n",
    "  --max_seq_length=512 \\\n",
    "  --per_device_train_batch_size=2 \\\n",
    "  --gradient_accumulation_steps=1 \\\n",
    "  --learning_rate=3e-5 \\\n",
    "  --num_train_epochs=1 \\\n",
    "  --checkpointing_steps=2048 \\\n",
    "  --seed=567 \\\n",
    "  --weight_decay=0.01 \\\n",
    "  --lr_scheduler_type=cosine \\\n",
    "  --output_dir=work/qa3\n",
    "81.78796942505817\n",
    "```"
   ]
  },
  {
   "cell_type": "markdown",
   "id": "9fd39937-9155-49b0-a2e8-d8d392d00a58",
   "metadata": {},
   "source": [
    "Evaluate ensemble end-to-end:\n",
    "```sh\n",
    "./eval.py \\\n",
    "  -i data/valid.json \\\n",
    "  -c data/context.json \\\n",
    "  -S work/swag1 -Q work/qa1 -Q work/qa2 -Q work/qa3 \\\n",
    "  -o work/output.csv\n",
    "  \n",
    "work/swag1: context selection accuracy 0.9688 (with second eval @384; one eval 0.9558)\n",
    "work/qa1: exact match 79.9269 (2405/3009 correct)\n",
    "work/qa2: exact match 78.9299 (2375/3009 correct)\n",
    "work/qa3: exact match 79.8604 (2403/3009 correct)\n",
    "ensemble: exact match 81.4224 (2450/3009 correct)\n",
    "```\n",
    "\n",
    "**<font color=purple>81.4224</font>** on valid.json"
   ]
  },
  {
   "cell_type": "markdown",
   "id": "d001dff8",
   "metadata": {},
   "source": [
    "# Mytest"
   ]
  },
  {
   "cell_type": "markdown",
   "id": "86a7d637",
   "metadata": {},
   "source": [
    "```sh\n",
    "work/swag1: context selection accuracy 0.9648 (with second eval @384; one eval 0.9555)\n",
    "work/qa1: exact match 72.9478 (2195/3009 correct)\n",
    "work/qa2: exact match 78.3317 (2357/3009 correct)\n",
    "work/qa3: exact match 79.1293 (2381/3009 correct)\n",
    "ensemble: exact match 79.7940 (2401/3009 correct)\n",
    "```"
   ]
  },
  {
   "cell_type": "markdown",
   "id": "6c3359a4",
   "metadata": {},
   "source": [
    "```sh\n",
    "work/swag1: context selection accuracy 0.9648 (with second eval @384; one eval 0.9555)\n",
    "work/qa2: exact match 78.3317 (2357/3009 correct)\n",
    "work/qa3: exact match 79.1293 (2381/3009 correct)\n",
    "ensemble: exact match 79.6278 (2396/3009 correct)\n",
    "```"
   ]
  }
 ],
 "metadata": {
  "kernelspec": {
   "display_name": "Python 3.9.13 ('adl-hw1')",
   "language": "python",
   "name": "python3"
  },
  "language_info": {
   "codemirror_mode": {
    "name": "ipython",
    "version": 3
   },
   "file_extension": ".py",
   "mimetype": "text/x-python",
   "name": "python",
   "nbconvert_exporter": "python",
   "pygments_lexer": "ipython3",
   "version": "3.9.13"
  },
  "vscode": {
   "interpreter": {
    "hash": "075153796ce283a1135a05df4a88665148f05cfe94be538ea710087659147986"
   }
  }
 },
 "nbformat": 4,
 "nbformat_minor": 5
}
